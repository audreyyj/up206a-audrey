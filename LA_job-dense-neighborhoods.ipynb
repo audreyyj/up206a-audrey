{
 "cells": [
  {
   "cell_type": "markdown",
   "metadata": {},
   "source": [
    "## Job Density\n",
    "### Los Angeles County\n",
    "\n",
    "In the Week 4 Individual Coding Assignment, I identified neighborhoods with the highest population densities in LA County. \n",
    "\n",
    "Now I'll build off of what I worked on in Week 3 to calculate job density from the total job count. I will first call in job count data from OntheMap, and copy the work I did in Week 3."
   ]
  },
  {
   "cell_type": "code",
   "execution_count": 1,
   "metadata": {},
   "outputs": [],
   "source": [
    "# for spatial data\n",
    "import geopandas as gpd\n",
    "# for general data wrangling tasks\n",
    "import pandas as pd\n",
    "\n",
    "# for plotting\n",
    "import matplotlib.pyplot as plt\n",
    "# for basemaps\n",
    "import contextily as ctx\n",
    "\n",
    "# for network analysis\n",
    "import networkx as nx\n",
    "# for street network analysis\n",
    "import osmnx as ox"
   ]
  },
  {
   "cell_type": "code",
   "execution_count": 2,
   "metadata": {},
   "outputs": [],
   "source": [
    "LA_jobs = gpd.read_file('AYJ-GroupData/points_2018.shp')"
   ]
  },
  {
   "cell_type": "code",
   "execution_count": 3,
   "metadata": {},
   "outputs": [],
   "source": [
    "keep_job_columns = ['id',\n",
    " 'c000',\n",
    " 'geometry']"
   ]
  },
  {
   "cell_type": "code",
   "execution_count": 4,
   "metadata": {},
   "outputs": [],
   "source": [
    "LA_jobs = LA_jobs[keep_job_columns]"
   ]
  },
  {
   "cell_type": "code",
   "execution_count": 5,
   "metadata": {},
   "outputs": [],
   "source": [
    "LA_jobs.columns = ['GEOID', 'Job Count', 'geometry']"
   ]
  },
  {
   "cell_type": "markdown",
   "metadata": {},
   "source": [
    "Because this is point data, I need to merge the areas of each Census tract by their GEOID from the .csv file I produced from the population density analysis. "
   ]
  },
  {
   "cell_type": "code",
   "execution_count": 6,
   "metadata": {},
   "outputs": [
    {
     "data": {
      "text/html": [
       "<div>\n",
       "<style scoped>\n",
       "    .dataframe tbody tr th:only-of-type {\n",
       "        vertical-align: middle;\n",
       "    }\n",
       "\n",
       "    .dataframe tbody tr th {\n",
       "        vertical-align: top;\n",
       "    }\n",
       "\n",
       "    .dataframe thead th {\n",
       "        text-align: right;\n",
       "    }\n",
       "</style>\n",
       "<table border=\"1\" class=\"dataframe\">\n",
       "  <thead>\n",
       "    <tr style=\"text-align: right;\">\n",
       "      <th></th>\n",
       "      <th>GEOID</th>\n",
       "      <th>Job Count</th>\n",
       "      <th>geometry</th>\n",
       "    </tr>\n",
       "  </thead>\n",
       "  <tbody>\n",
       "    <tr>\n",
       "      <th>0</th>\n",
       "      <td>060374600003006</td>\n",
       "      <td>12.0</td>\n",
       "      <td>POINT (-2001134.000 -138945.141)</td>\n",
       "    </tr>\n",
       "    <tr>\n",
       "      <th>1</th>\n",
       "      <td>060374300025013</td>\n",
       "      <td>3.0</td>\n",
       "      <td>POINT (-1991025.125 -145032.016)</td>\n",
       "    </tr>\n",
       "    <tr>\n",
       "      <th>2</th>\n",
       "      <td>060374300025015</td>\n",
       "      <td>1.0</td>\n",
       "      <td>POINT (-1991167.125 -145140.297)</td>\n",
       "    </tr>\n",
       "    <tr>\n",
       "      <th>3</th>\n",
       "      <td>060374300025014</td>\n",
       "      <td>21.0</td>\n",
       "      <td>POINT (-1991184.625 -145096.594)</td>\n",
       "    </tr>\n",
       "    <tr>\n",
       "      <th>4</th>\n",
       "      <td>060374300025021</td>\n",
       "      <td>4.0</td>\n",
       "      <td>POINT (-1991041.750 -145197.812)</td>\n",
       "    </tr>\n",
       "  </tbody>\n",
       "</table>\n",
       "</div>"
      ],
      "text/plain": [
       "             GEOID  Job Count                          geometry\n",
       "0  060374600003006       12.0  POINT (-2001134.000 -138945.141)\n",
       "1  060374300025013        3.0  POINT (-1991025.125 -145032.016)\n",
       "2  060374300025015        1.0  POINT (-1991167.125 -145140.297)\n",
       "3  060374300025014       21.0  POINT (-1991184.625 -145096.594)\n",
       "4  060374300025021        4.0  POINT (-1991041.750 -145197.812)"
      ]
     },
     "execution_count": 6,
     "metadata": {},
     "output_type": "execute_result"
    }
   ],
   "source": [
    "LA_jobs.head()"
   ]
  },
  {
   "cell_type": "code",
   "execution_count": 7,
   "metadata": {},
   "outputs": [],
   "source": [
    "LA_pop = gpd.read_file('AYJ-GroupData/cleanedLApop_areas.csv')"
   ]
  },
  {
   "cell_type": "code",
   "execution_count": 8,
   "metadata": {},
   "outputs": [
    {
     "data": {
      "text/html": [
       "<div>\n",
       "<style scoped>\n",
       "    .dataframe tbody tr th:only-of-type {\n",
       "        vertical-align: middle;\n",
       "    }\n",
       "\n",
       "    .dataframe tbody tr th {\n",
       "        vertical-align: top;\n",
       "    }\n",
       "\n",
       "    .dataframe thead th {\n",
       "        text-align: right;\n",
       "    }\n",
       "</style>\n",
       "<table border=\"1\" class=\"dataframe\">\n",
       "  <thead>\n",
       "    <tr style=\"text-align: right;\">\n",
       "      <th></th>\n",
       "      <th>field_1</th>\n",
       "      <th>GEOID</th>\n",
       "      <th>area</th>\n",
       "      <th>Pop Density</th>\n",
       "      <th>geometry</th>\n",
       "    </tr>\n",
       "  </thead>\n",
       "  <tbody>\n",
       "    <tr>\n",
       "      <th>0</th>\n",
       "      <td>0</td>\n",
       "      <td>14000US06037101110</td>\n",
       "      <td>1190263.184656883</td>\n",
       "      <td>0.003598363836847277</td>\n",
       "      <td>None</td>\n",
       "    </tr>\n",
       "    <tr>\n",
       "      <th>1</th>\n",
       "      <td>1</td>\n",
       "      <td>14000US06037101122</td>\n",
       "      <td>2754669.980421015</td>\n",
       "      <td>0.0012360827337580347</td>\n",
       "      <td>None</td>\n",
       "    </tr>\n",
       "    <tr>\n",
       "      <th>2</th>\n",
       "      <td>2</td>\n",
       "      <td>14000US06037101210</td>\n",
       "      <td>677981.8833714458</td>\n",
       "      <td>0.009361607080764237</td>\n",
       "      <td>None</td>\n",
       "    </tr>\n",
       "    <tr>\n",
       "      <th>3</th>\n",
       "      <td>3</td>\n",
       "      <td>14000US06037101220</td>\n",
       "      <td>728204.6899016033</td>\n",
       "      <td>0.005083735454244634</td>\n",
       "      <td>None</td>\n",
       "    </tr>\n",
       "    <tr>\n",
       "      <th>4</th>\n",
       "      <td>4</td>\n",
       "      <td>14000US06037101300</td>\n",
       "      <td>2689564.1879190835</td>\n",
       "      <td>0.0014441001324474996</td>\n",
       "      <td>None</td>\n",
       "    </tr>\n",
       "    <tr>\n",
       "      <th>...</th>\n",
       "      <td>...</td>\n",
       "      <td>...</td>\n",
       "      <td>...</td>\n",
       "      <td>...</td>\n",
       "      <td>...</td>\n",
       "    </tr>\n",
       "    <tr>\n",
       "      <th>2341</th>\n",
       "      <td>2341</td>\n",
       "      <td>14000US06037980031</td>\n",
       "      <td>27111981.338929184</td>\n",
       "      <td>4.33387728219205e-05</td>\n",
       "      <td>None</td>\n",
       "    </tr>\n",
       "    <tr>\n",
       "      <th>2342</th>\n",
       "      <td>2342</td>\n",
       "      <td>14000US06037980033</td>\n",
       "      <td>30012880.890518565</td>\n",
       "      <td>5.33104438003304e-07</td>\n",
       "      <td>None</td>\n",
       "    </tr>\n",
       "    <tr>\n",
       "      <th>2343</th>\n",
       "      <td>2343</td>\n",
       "      <td>14000US06037990100</td>\n",
       "      <td>180339344.96581003</td>\n",
       "      <td>0.0</td>\n",
       "      <td>None</td>\n",
       "    </tr>\n",
       "    <tr>\n",
       "      <th>2344</th>\n",
       "      <td>2344</td>\n",
       "      <td>14000US06037990200</td>\n",
       "      <td>216681423.73547158</td>\n",
       "      <td>0.0</td>\n",
       "      <td>None</td>\n",
       "    </tr>\n",
       "    <tr>\n",
       "      <th>2345</th>\n",
       "      <td>2345</td>\n",
       "      <td>14000US06037990300</td>\n",
       "      <td>154329896.6690769</td>\n",
       "      <td>0.0</td>\n",
       "      <td>None</td>\n",
       "    </tr>\n",
       "  </tbody>\n",
       "</table>\n",
       "<p>2346 rows × 5 columns</p>\n",
       "</div>"
      ],
      "text/plain": [
       "     field_1               GEOID                area            Pop Density  \\\n",
       "0          0  14000US06037101110   1190263.184656883   0.003598363836847277   \n",
       "1          1  14000US06037101122   2754669.980421015  0.0012360827337580347   \n",
       "2          2  14000US06037101210   677981.8833714458   0.009361607080764237   \n",
       "3          3  14000US06037101220   728204.6899016033   0.005083735454244634   \n",
       "4          4  14000US06037101300  2689564.1879190835  0.0014441001324474996   \n",
       "...      ...                 ...                 ...                    ...   \n",
       "2341    2341  14000US06037980031  27111981.338929184   4.33387728219205e-05   \n",
       "2342    2342  14000US06037980033  30012880.890518565   5.33104438003304e-07   \n",
       "2343    2343  14000US06037990100  180339344.96581003                    0.0   \n",
       "2344    2344  14000US06037990200  216681423.73547158                    0.0   \n",
       "2345    2345  14000US06037990300   154329896.6690769                    0.0   \n",
       "\n",
       "     geometry  \n",
       "0        None  \n",
       "1        None  \n",
       "2        None  \n",
       "3        None  \n",
       "4        None  \n",
       "...       ...  \n",
       "2341     None  \n",
       "2342     None  \n",
       "2343     None  \n",
       "2344     None  \n",
       "2345     None  \n",
       "\n",
       "[2346 rows x 5 columns]"
      ]
     },
     "execution_count": 8,
     "metadata": {},
     "output_type": "execute_result"
    }
   ],
   "source": [
    "LA_pop"
   ]
  },
  {
   "cell_type": "code",
   "execution_count": 9,
   "metadata": {},
   "outputs": [
    {
     "name": "stdout",
     "output_type": "stream",
     "text": [
      "<class 'geopandas.geodataframe.GeoDataFrame'>\n",
      "RangeIndex: 2346 entries, 0 to 2345\n",
      "Data columns (total 5 columns):\n",
      " #   Column       Non-Null Count  Dtype   \n",
      "---  ------       --------------  -----   \n",
      " 0   field_1      2346 non-null   object  \n",
      " 1   GEOID        2346 non-null   object  \n",
      " 2   area         2346 non-null   object  \n",
      " 3   Pop Density  2346 non-null   object  \n",
      " 4   geometry     0 non-null      geometry\n",
      "dtypes: geometry(1), object(4)\n",
      "memory usage: 91.8+ KB\n"
     ]
    }
   ],
   "source": [
    "LA_pop.info()"
   ]
  },
  {
   "cell_type": "markdown",
   "metadata": {},
   "source": [
    "Sigh, I need to delete the \"14000US\" from the front of each LA_pop GEOID. \n",
    "\n",
    "Using .replace()\n",
    "Source: https://stackoverflow.com/questions/37372603/how-to-remove-specific-substrings-from-a-set-of-strings-in-python \n",
    "\n",
    "Using .strip()\n",
    "Source: https://www.programiz.com/python-programming/methods/string/strip\n",
    "\n",
    "Using .removeprefix()\n",
    "Source: https://stackoverflow.com/questions/1038824/how-do-i-remove-a-substring-from-the-end-of-a-string-in-python \n",
    "url = 'abcdc.com'\n",
    "url.removesuffix('.com')    # Returns 'abcdc'\n",
    "url.removeprefix('abcdc.')  # Returns 'com'"
   ]
  },
  {
   "cell_type": "code",
   "execution_count": 10,
   "metadata": {},
   "outputs": [],
   "source": [
    "LA_pop.GEOID = [x.replace('14000US', '') for x in LA_pop.GEOID] \n",
    "#LA_pop.GEOID = [x.strip('14000US') for x in LA_pop.GEOID]     Source: https://towardsdatascience.com/5-methods-to-remove-the-from-your-data-in-python-and-the-fastest-one-281489382455 \n",
    "# didn't work: cleanedFIPS = LA_pop['GEOID'].strip('14000US') \n",
    "## .removeprefix() didn't work either - do we not have Python 3.9 or newer? "
   ]
  },
  {
   "cell_type": "code",
   "execution_count": 11,
   "metadata": {},
   "outputs": [
    {
     "data": {
      "text/html": [
       "<div>\n",
       "<style scoped>\n",
       "    .dataframe tbody tr th:only-of-type {\n",
       "        vertical-align: middle;\n",
       "    }\n",
       "\n",
       "    .dataframe tbody tr th {\n",
       "        vertical-align: top;\n",
       "    }\n",
       "\n",
       "    .dataframe thead th {\n",
       "        text-align: right;\n",
       "    }\n",
       "</style>\n",
       "<table border=\"1\" class=\"dataframe\">\n",
       "  <thead>\n",
       "    <tr style=\"text-align: right;\">\n",
       "      <th></th>\n",
       "      <th>field_1</th>\n",
       "      <th>GEOID</th>\n",
       "      <th>area</th>\n",
       "      <th>Pop Density</th>\n",
       "      <th>geometry</th>\n",
       "    </tr>\n",
       "  </thead>\n",
       "  <tbody>\n",
       "    <tr>\n",
       "      <th>0</th>\n",
       "      <td>0</td>\n",
       "      <td>06037101110</td>\n",
       "      <td>1190263.184656883</td>\n",
       "      <td>0.003598363836847277</td>\n",
       "      <td>None</td>\n",
       "    </tr>\n",
       "    <tr>\n",
       "      <th>1</th>\n",
       "      <td>1</td>\n",
       "      <td>06037101122</td>\n",
       "      <td>2754669.980421015</td>\n",
       "      <td>0.0012360827337580347</td>\n",
       "      <td>None</td>\n",
       "    </tr>\n",
       "    <tr>\n",
       "      <th>2</th>\n",
       "      <td>2</td>\n",
       "      <td>06037101210</td>\n",
       "      <td>677981.8833714458</td>\n",
       "      <td>0.009361607080764237</td>\n",
       "      <td>None</td>\n",
       "    </tr>\n",
       "    <tr>\n",
       "      <th>3</th>\n",
       "      <td>3</td>\n",
       "      <td>06037101220</td>\n",
       "      <td>728204.6899016033</td>\n",
       "      <td>0.005083735454244634</td>\n",
       "      <td>None</td>\n",
       "    </tr>\n",
       "    <tr>\n",
       "      <th>4</th>\n",
       "      <td>4</td>\n",
       "      <td>06037101300</td>\n",
       "      <td>2689564.1879190835</td>\n",
       "      <td>0.0014441001324474996</td>\n",
       "      <td>None</td>\n",
       "    </tr>\n",
       "  </tbody>\n",
       "</table>\n",
       "</div>"
      ],
      "text/plain": [
       "  field_1        GEOID                area            Pop Density geometry\n",
       "0       0  06037101110   1190263.184656883   0.003598363836847277     None\n",
       "1       1  06037101122   2754669.980421015  0.0012360827337580347     None\n",
       "2       2  06037101210   677981.8833714458   0.009361607080764237     None\n",
       "3       3  06037101220   728204.6899016033   0.005083735454244634     None\n",
       "4       4  06037101300  2689564.1879190835  0.0014441001324474996     None"
      ]
     },
     "execution_count": 11,
     "metadata": {},
     "output_type": "execute_result"
    }
   ],
   "source": [
    "LA_pop.head()"
   ]
  },
  {
   "cell_type": "code",
   "execution_count": 12,
   "metadata": {},
   "outputs": [],
   "source": [
    "LA_jobs = LA_jobs.merge(LA_pop, on='GEOID')# Merge with `merge` method on shared variable "
   ]
  },
  {
   "cell_type": "code",
   "execution_count": 13,
   "metadata": {},
   "outputs": [
    {
     "data": {
      "text/html": [
       "<div>\n",
       "<style scoped>\n",
       "    .dataframe tbody tr th:only-of-type {\n",
       "        vertical-align: middle;\n",
       "    }\n",
       "\n",
       "    .dataframe tbody tr th {\n",
       "        vertical-align: top;\n",
       "    }\n",
       "\n",
       "    .dataframe thead th {\n",
       "        text-align: right;\n",
       "    }\n",
       "</style>\n",
       "<table border=\"1\" class=\"dataframe\">\n",
       "  <thead>\n",
       "    <tr style=\"text-align: right;\">\n",
       "      <th></th>\n",
       "      <th>GEOID</th>\n",
       "      <th>Job Count</th>\n",
       "      <th>geometry_x</th>\n",
       "      <th>field_1</th>\n",
       "      <th>area</th>\n",
       "      <th>Pop Density</th>\n",
       "      <th>geometry_y</th>\n",
       "    </tr>\n",
       "  </thead>\n",
       "  <tbody>\n",
       "  </tbody>\n",
       "</table>\n",
       "</div>"
      ],
      "text/plain": [
       "Empty DataFrame\n",
       "Columns: [GEOID, Job Count, geometry_x, field_1, area, Pop Density, geometry_y]\n",
       "Index: []"
      ]
     },
     "execution_count": 13,
     "metadata": {},
     "output_type": "execute_result"
    }
   ],
   "source": [
    "LA_jobs"
   ]
  },
  {
   "cell_type": "markdown",
   "metadata": {},
   "source": [
    "I have no idea why this isn't working ;_; \n"
   ]
  }
 ],
 "metadata": {
  "kernelspec": {
   "display_name": "Python 3",
   "language": "python",
   "name": "python3"
  },
  "language_info": {
   "codemirror_mode": {
    "name": "ipython",
    "version": 3
   },
   "file_extension": ".py",
   "mimetype": "text/x-python",
   "name": "python",
   "nbconvert_exporter": "python",
   "pygments_lexer": "ipython3",
   "version": "3.8.5"
  },
  "toc": {
   "base_numbering": 1,
   "nav_menu": {},
   "number_sections": true,
   "sideBar": true,
   "skip_h1_title": false,
   "title_cell": "Table of Contents",
   "title_sidebar": "Contents",
   "toc_cell": false,
   "toc_position": {},
   "toc_section_display": true,
   "toc_window_display": false
  }
 },
 "nbformat": 4,
 "nbformat_minor": 4
}
